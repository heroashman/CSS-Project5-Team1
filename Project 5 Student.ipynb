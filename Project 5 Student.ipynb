{
 "cells": [
  {
   "cell_type": "markdown",
   "metadata": {},
   "source": [
    "## [Computational Social Science] Project 5: Natural Language Processing"
   ]
  },
  {
   "cell_type": "markdown",
   "metadata": {},
   "source": [
    "In this project, you will use natural language processing techniques to explore a dataset containing tweets from members of the 116th United States Congress that met from January 3, 2019 to January 2, 2021. The dataset has also been cleaned to contain information about each legislator. Concretely, you will do the following:\n",
    "\n",
    "* Preprocess the text of legislators' tweets\n",
    "* Conduct Exploratory Data Analysis of the text\n",
    "* Use sentiment analysis to explore differences between legislators' tweets\n",
    "* Featurize text with manual feature engineering, frequency-based, and vector-based techniques\n",
    "* Predict legislators' political parties and whether they are a Senator or Representative\n",
    "\n",
    "You will explore two questions that relate to two central findings in political science and examine how they relate to the text of legislators' tweets. First, political scientists have argued that U.S. politics is currently highly polarized relative to other periods in American history, but also that the polarization is asymmetric. Historically, there were several conservative Democrats (i.e. \"blue dog Democrats\") and liberal Republicans (i.e. \"Rockefeller Republicans\"), as measured by popular measurement tools like [DW-NOMINATE](https://en.wikipedia.org/wiki/NOMINATE_(scaling_method)#:~:text=DW\\%2DNOMINATE\\%20scores\\%20have\\%20been,in\\%20the\\%20liberal\\%2Dconservative\\%20scale.). However, in the last few years, there are few if any examples of any Democrat in Congress being further to the right than any Republican and vice versa. At the same time, scholars have argued that this polarization is mostly a function of the Republican party moving further right than the Democratic party has moved left. **Does this sort of asymmetric polarization show up in how politicians communicate to their constituents through tweets?**\n",
    "\n",
    "Second, the U.S. Congress is a bicameral legislature, and there has long been debate about partisanship in the Senate versus the House. The House of Representatives is apportioned by population and all members serve two year terms. In the Senate, each state receives two Senators and each Senator serves a term of six years. For a variety of reasons (smaller chamber size, more insulation from the voters, rules and norms like the filibuster, etc.), the Senate has been argued to be the \"cooling saucer\" of Congress in that it is more bipartisan and moderate than the House. **Does the theory that the Senate is more moderate have support in Senators' tweets?**\n",
    "\n",
    "**Note**: See the project handout for more details on caveats and the data dictionary."
   ]
  },
  {
   "cell_type": "code",
   "execution_count": 12,
   "metadata": {},
   "outputs": [],
   "source": [
    "# pandas and numpy\n",
    "import pandas as pd\n",
    "import numpy as numpy\n",
    "\n",
    "# punctuation, stop words and English language model\n",
    "from string import punctuation\n",
    "from spacy.lang.en.stop_words import STOP_WORDS\n",
    "import en_core_web_sm\n",
    "nlp = en_core_web_sm.load()\n",
    "\n",
    "# textblob\n",
    "from textblob import TextBlob\n",
    "\n",
    "# countvectorizer, tfidfvectorizer\n",
    "from sklearn.feature_extraction.text import CountVectorizer, TfidfVectorizer\n",
    "\n",
    "# gensim\n",
    "import gensim\n",
    "from gensim import models\n",
    "\n",
    "# plotting\n",
    "import matplotlib.pyplot as plt\n",
    "import seaborn as sns\n",
    "%matplotlib inline\n",
    "\n",
    "#wordcloud\n",
    "from wordcloud import WordCloud, STOPWORDS, ImageColorGenerator\n",
    "\n",
    "#import random\n",
    "import random"
   ]
  },
  {
   "cell_type": "code",
   "execution_count": 6,
   "metadata": {},
   "outputs": [
    {
     "data": {
      "text/plain": [
       "(946791, 16)"
      ]
     },
     "execution_count": 6,
     "metadata": {},
     "output_type": "execute_result"
    }
   ],
   "source": [
    "congress_tweets = pd.read_csv(\"data/116th Congressional Tweets and Demographics.csv\")\n",
    "# fill in this line of code with a sufficient number of tweets, depending on your computational resources\n",
    "#congress_tweets = congress_tweets.sample(...)\n",
    "congress_tweets.head()\n",
    "\n",
    "congress_tweets.shape\n",
    "\n",
    "\n"
   ]
  },
  {
   "cell_type": "code",
   "execution_count": 61,
   "metadata": {},
   "outputs": [
    {
     "data": {
      "text/html": [
       "<div>\n",
       "<style scoped>\n",
       "    .dataframe tbody tr th:only-of-type {\n",
       "        vertical-align: middle;\n",
       "    }\n",
       "\n",
       "    .dataframe tbody tr th {\n",
       "        vertical-align: top;\n",
       "    }\n",
       "\n",
       "    .dataframe thead th {\n",
       "        text-align: right;\n",
       "    }\n",
       "</style>\n",
       "<table border=\"1\" class=\"dataframe\">\n",
       "  <thead>\n",
       "    <tr style=\"text-align: right;\">\n",
       "      <th></th>\n",
       "      <th>tweet_id</th>\n",
       "      <th>screen_name</th>\n",
       "      <th>datetime</th>\n",
       "      <th>text</th>\n",
       "      <th>name_wikipedia</th>\n",
       "      <th>position</th>\n",
       "      <th>joined_congress_date</th>\n",
       "      <th>birthday</th>\n",
       "      <th>gender</th>\n",
       "      <th>state</th>\n",
       "      <th>district_number</th>\n",
       "      <th>party</th>\n",
       "      <th>trump_2016_state_share</th>\n",
       "      <th>clinton_2016_state_share</th>\n",
       "      <th>obama_2012_state_share</th>\n",
       "      <th>romney_2012_state_share</th>\n",
       "    </tr>\n",
       "  </thead>\n",
       "  <tbody>\n",
       "    <tr>\n",
       "      <th>164793</th>\n",
       "      <td>1.189970e+18</td>\n",
       "      <td>RepTipton</td>\n",
       "      <td>2019-10-31T14:16:58-04:00</td>\n",
       "      <td>#TBT: How to Pass a Wilderness Bill in 2014 (n...</td>\n",
       "      <td>Scott Tipton</td>\n",
       "      <td>Rep</td>\n",
       "      <td>3-Jan-11</td>\n",
       "      <td>11/9/1956</td>\n",
       "      <td>M</td>\n",
       "      <td>CO</td>\n",
       "      <td>3</td>\n",
       "      <td>Republican</td>\n",
       "      <td>1,202,484</td>\n",
       "      <td>1,338,870</td>\n",
       "      <td>1,323,102</td>\n",
       "      <td>1,185,243</td>\n",
       "    </tr>\n",
       "    <tr>\n",
       "      <th>763269</th>\n",
       "      <td>1.098400e+18</td>\n",
       "      <td>JoaquinCastrotx</td>\n",
       "      <td>2019-02-20T20:54:08-05:00</td>\n",
       "      <td>RT @AlexWardVox This is the most overlooked pa...</td>\n",
       "      <td>Joaquín Castro</td>\n",
       "      <td>Rep</td>\n",
       "      <td>3-Jan-13</td>\n",
       "      <td>9/16/1974</td>\n",
       "      <td>M</td>\n",
       "      <td>TX</td>\n",
       "      <td>20</td>\n",
       "      <td>Democrat</td>\n",
       "      <td>4,685,047</td>\n",
       "      <td>3,877,868</td>\n",
       "      <td>3,308,124</td>\n",
       "      <td>4,569,843</td>\n",
       "    </tr>\n",
       "    <tr>\n",
       "      <th>8321</th>\n",
       "      <td>1.267090e+18</td>\n",
       "      <td>RepTerriSewell</td>\n",
       "      <td>2020-05-31T09:38:12-04:00</td>\n",
       "      <td>The outrage we’re feeling is the culmination o...</td>\n",
       "      <td>Terri Sewell</td>\n",
       "      <td>Rep</td>\n",
       "      <td>3-Jan-11</td>\n",
       "      <td>1/1/1965</td>\n",
       "      <td>F</td>\n",
       "      <td>AL</td>\n",
       "      <td>7</td>\n",
       "      <td>Democrat</td>\n",
       "      <td>1,318,255</td>\n",
       "      <td>729,547</td>\n",
       "      <td>795,696</td>\n",
       "      <td>1,255,925</td>\n",
       "    </tr>\n",
       "    <tr>\n",
       "      <th>87887</th>\n",
       "      <td>1.172570e+18</td>\n",
       "      <td>RepSpeier</td>\n",
       "      <td>2019-09-13T14:16:47-04:00</td>\n",
       "      <td>RT @RepColinAllred Over the past 25 years, the...</td>\n",
       "      <td>Jackie Speier</td>\n",
       "      <td>Rep</td>\n",
       "      <td>3-Jan-13</td>\n",
       "      <td>5/14/1950</td>\n",
       "      <td>F</td>\n",
       "      <td>CA</td>\n",
       "      <td>14</td>\n",
       "      <td>Democrat</td>\n",
       "      <td>4,483,814</td>\n",
       "      <td>8,753,792</td>\n",
       "      <td>7,854,285</td>\n",
       "      <td>4,839,958</td>\n",
       "    </tr>\n",
       "    <tr>\n",
       "      <th>214857</th>\n",
       "      <td>1.164320e+18</td>\n",
       "      <td>USRepKCastor</td>\n",
       "      <td>2019-08-21T19:26:14-04:00</td>\n",
       "      <td>I enjoyed seeing N. Tampa/Carrollwood neighbor...</td>\n",
       "      <td>Kathy Castor</td>\n",
       "      <td>Rep</td>\n",
       "      <td>3-Jan-07</td>\n",
       "      <td>8/20/1966</td>\n",
       "      <td>F</td>\n",
       "      <td>FL</td>\n",
       "      <td>14</td>\n",
       "      <td>Democrat</td>\n",
       "      <td>4,617,886</td>\n",
       "      <td>4,504,975</td>\n",
       "      <td>4,237,756</td>\n",
       "      <td>4,163,447</td>\n",
       "    </tr>\n",
       "    <tr>\n",
       "      <th>...</th>\n",
       "      <td>...</td>\n",
       "      <td>...</td>\n",
       "      <td>...</td>\n",
       "      <td>...</td>\n",
       "      <td>...</td>\n",
       "      <td>...</td>\n",
       "      <td>...</td>\n",
       "      <td>...</td>\n",
       "      <td>...</td>\n",
       "      <td>...</td>\n",
       "      <td>...</td>\n",
       "      <td>...</td>\n",
       "      <td>...</td>\n",
       "      <td>...</td>\n",
       "      <td>...</td>\n",
       "      <td>...</td>\n",
       "    </tr>\n",
       "    <tr>\n",
       "      <th>326361</th>\n",
       "      <td>1.308780e+18</td>\n",
       "      <td>RepJimBanks</td>\n",
       "      <td>2020-09-23T10:44:32-04:00</td>\n",
       "      <td>Hunter Biden’s investment firm got a #CCP biz ...</td>\n",
       "      <td>Jim Banks</td>\n",
       "      <td>Rep</td>\n",
       "      <td>3-Jan-17</td>\n",
       "      <td>7/16/1979</td>\n",
       "      <td>M</td>\n",
       "      <td>IN</td>\n",
       "      <td>3</td>\n",
       "      <td>Republican</td>\n",
       "      <td>1,557,286</td>\n",
       "      <td>1,033,126</td>\n",
       "      <td>1,152,887</td>\n",
       "      <td>1,420,543</td>\n",
       "    </tr>\n",
       "    <tr>\n",
       "      <th>69647</th>\n",
       "      <td>1.120010e+18</td>\n",
       "      <td>RepDeSaulnier</td>\n",
       "      <td>2019-04-21T13:18:38-04:00</td>\n",
       "      <td>Tune in live to @MSNBC at 10:20 PT as I sit do...</td>\n",
       "      <td>Mark DeSaulnier</td>\n",
       "      <td>Rep</td>\n",
       "      <td>3-Jan-15</td>\n",
       "      <td>3/31/1952</td>\n",
       "      <td>M</td>\n",
       "      <td>CA</td>\n",
       "      <td>11</td>\n",
       "      <td>Democrat</td>\n",
       "      <td>4,483,814</td>\n",
       "      <td>8,753,792</td>\n",
       "      <td>7,854,285</td>\n",
       "      <td>4,839,958</td>\n",
       "    </tr>\n",
       "    <tr>\n",
       "      <th>538433</th>\n",
       "      <td>1.080920e+18</td>\n",
       "      <td>RepDebHaaland</td>\n",
       "      <td>2019-01-03T14:59:10-05:00</td>\n",
       "      <td>It’s official! @RepDavids &amp;amp; I are the firs...</td>\n",
       "      <td>Deb Haaland</td>\n",
       "      <td>Rep</td>\n",
       "      <td>3-Jan-19</td>\n",
       "      <td>12/2/1960</td>\n",
       "      <td>F</td>\n",
       "      <td>NM</td>\n",
       "      <td>1</td>\n",
       "      <td>Democrat</td>\n",
       "      <td>319,667</td>\n",
       "      <td>385,234</td>\n",
       "      <td>415,335</td>\n",
       "      <td>335,788</td>\n",
       "    </tr>\n",
       "    <tr>\n",
       "      <th>79572</th>\n",
       "      <td>1.146770e+18</td>\n",
       "      <td>RepGilCisneros</td>\n",
       "      <td>2019-07-04T08:59:20-04:00</td>\n",
       "      <td>#CA39 Update: Had a great time starting off th...</td>\n",
       "      <td>Gil Cisneros</td>\n",
       "      <td>Rep</td>\n",
       "      <td>3-Jan-19</td>\n",
       "      <td>2/12/1971</td>\n",
       "      <td>M</td>\n",
       "      <td>CA</td>\n",
       "      <td>39</td>\n",
       "      <td>Democrat</td>\n",
       "      <td>4,483,814</td>\n",
       "      <td>8,753,792</td>\n",
       "      <td>7,854,285</td>\n",
       "      <td>4,839,958</td>\n",
       "    </tr>\n",
       "    <tr>\n",
       "      <th>351843</th>\n",
       "      <td>1.252600e+18</td>\n",
       "      <td>RepThomasMassie</td>\n",
       "      <td>2020-04-21T10:22:14-04:00</td>\n",
       "      <td>Who will fund bailouts for Big Oil and the Mil...</td>\n",
       "      <td>Thomas Massie</td>\n",
       "      <td>Rep</td>\n",
       "      <td>13-Nov-12</td>\n",
       "      <td>1/13/1971</td>\n",
       "      <td>M</td>\n",
       "      <td>KY</td>\n",
       "      <td>4</td>\n",
       "      <td>Republican</td>\n",
       "      <td>1,202,971</td>\n",
       "      <td>628,854</td>\n",
       "      <td>679,370</td>\n",
       "      <td>1,087,190</td>\n",
       "    </tr>\n",
       "  </tbody>\n",
       "</table>\n",
       "<p>10000 rows × 16 columns</p>\n",
       "</div>"
      ],
      "text/plain": [
       "            tweet_id      screen_name                   datetime  \\\n",
       "164793  1.189970e+18        RepTipton  2019-10-31T14:16:58-04:00   \n",
       "763269  1.098400e+18  JoaquinCastrotx  2019-02-20T20:54:08-05:00   \n",
       "8321    1.267090e+18   RepTerriSewell  2020-05-31T09:38:12-04:00   \n",
       "87887   1.172570e+18        RepSpeier  2019-09-13T14:16:47-04:00   \n",
       "214857  1.164320e+18     USRepKCastor  2019-08-21T19:26:14-04:00   \n",
       "...              ...              ...                        ...   \n",
       "326361  1.308780e+18      RepJimBanks  2020-09-23T10:44:32-04:00   \n",
       "69647   1.120010e+18    RepDeSaulnier  2019-04-21T13:18:38-04:00   \n",
       "538433  1.080920e+18    RepDebHaaland  2019-01-03T14:59:10-05:00   \n",
       "79572   1.146770e+18   RepGilCisneros  2019-07-04T08:59:20-04:00   \n",
       "351843  1.252600e+18  RepThomasMassie  2020-04-21T10:22:14-04:00   \n",
       "\n",
       "                                                     text   name_wikipedia  \\\n",
       "164793  #TBT: How to Pass a Wilderness Bill in 2014 (n...     Scott Tipton   \n",
       "763269  RT @AlexWardVox This is the most overlooked pa...   Joaquín Castro   \n",
       "8321    The outrage we’re feeling is the culmination o...     Terri Sewell   \n",
       "87887   RT @RepColinAllred Over the past 25 years, the...    Jackie Speier   \n",
       "214857  I enjoyed seeing N. Tampa/Carrollwood neighbor...     Kathy Castor   \n",
       "...                                                   ...              ...   \n",
       "326361  Hunter Biden’s investment firm got a #CCP biz ...        Jim Banks   \n",
       "69647   Tune in live to @MSNBC at 10:20 PT as I sit do...  Mark DeSaulnier   \n",
       "538433  It’s official! @RepDavids &amp; I are the firs...      Deb Haaland   \n",
       "79572   #CA39 Update: Had a great time starting off th...     Gil Cisneros   \n",
       "351843  Who will fund bailouts for Big Oil and the Mil...    Thomas Massie   \n",
       "\n",
       "       position joined_congress_date   birthday gender state district_number  \\\n",
       "164793      Rep             3-Jan-11  11/9/1956      M    CO               3   \n",
       "763269      Rep             3-Jan-13  9/16/1974      M    TX              20   \n",
       "8321        Rep             3-Jan-11   1/1/1965      F    AL               7   \n",
       "87887       Rep             3-Jan-13  5/14/1950      F    CA              14   \n",
       "214857      Rep             3-Jan-07  8/20/1966      F    FL              14   \n",
       "...         ...                  ...        ...    ...   ...             ...   \n",
       "326361      Rep             3-Jan-17  7/16/1979      M    IN               3   \n",
       "69647       Rep             3-Jan-15  3/31/1952      M    CA              11   \n",
       "538433      Rep             3-Jan-19  12/2/1960      F    NM               1   \n",
       "79572       Rep             3-Jan-19  2/12/1971      M    CA              39   \n",
       "351843      Rep            13-Nov-12  1/13/1971      M    KY               4   \n",
       "\n",
       "             party trump_2016_state_share clinton_2016_state_share  \\\n",
       "164793  Republican              1,202,484                1,338,870   \n",
       "763269    Democrat              4,685,047                3,877,868   \n",
       "8321      Democrat              1,318,255                  729,547   \n",
       "87887     Democrat              4,483,814                8,753,792   \n",
       "214857    Democrat              4,617,886                4,504,975   \n",
       "...            ...                    ...                      ...   \n",
       "326361  Republican              1,557,286                1,033,126   \n",
       "69647     Democrat              4,483,814                8,753,792   \n",
       "538433    Democrat                319,667                  385,234   \n",
       "79572     Democrat              4,483,814                8,753,792   \n",
       "351843  Republican              1,202,971                  628,854   \n",
       "\n",
       "       obama_2012_state_share romney_2012_state_share  \n",
       "164793              1,323,102               1,185,243  \n",
       "763269              3,308,124               4,569,843  \n",
       "8321                  795,696               1,255,925  \n",
       "87887               7,854,285               4,839,958  \n",
       "214857              4,237,756               4,163,447  \n",
       "...                       ...                     ...  \n",
       "326361              1,152,887               1,420,543  \n",
       "69647               7,854,285               4,839,958  \n",
       "538433                415,335                 335,788  \n",
       "79572               7,854,285               4,839,958  \n",
       "351843                679,370               1,087,190  \n",
       "\n",
       "[10000 rows x 16 columns]"
      ]
     },
     "execution_count": 61,
     "metadata": {},
     "output_type": "execute_result"
    }
   ],
   "source": [
    "ct = congress_tweets.sample(10000, random_state=2)\n",
    "ct"
   ]
  },
  {
   "cell_type": "code",
   "execution_count": null,
   "metadata": {},
   "outputs": [],
   "source": [
    "'''\n",
    "ct.groupby('party').count()\n",
    "#Dem = 6468, Ind = 40, Rep = 3492\n",
    "\n",
    "ct.groupby('position').count()\n",
    "#Representative = 7689, Senator = 2311"
   ]
  },
  {
   "cell_type": "markdown",
   "metadata": {},
   "source": [
    "## Preprocessing"
   ]
  },
  {
   "cell_type": "markdown",
   "metadata": {},
   "source": [
    "The first step in working with text data is to preprocess it. Make sure you do the following:\n",
    "\n",
    "* Remove punctuation and stop words. The `rem_punc_stop()` function we used in lab is provided to you but you should feel free to edit it as necessary for other steps\n",
    "* Remove tokens that occur frequently in tweets, but may not be helpful for downstream classification. For instance, many tweets contain a flag for retweeting, or share a URL \n",
    "\n",
    "As you search online, you might run into solutions that rely on regular expressions. You are free to use these, but you should also be able to preprocess using the techniques we covered in lab. Specifically, we encourage you to use spaCy's token attributes and string methods to do some of this text preprocessing."
   ]
  },
  {
   "cell_type": "code",
   "execution_count": 62,
   "metadata": {},
   "outputs": [],
   "source": [
    "def rem_punc_stop(text):\n",
    "    stop_words = STOP_WORDS #need to add to stopwords: RT, QT\n",
    "    punc = set(punctuation)\n",
    "    \n",
    "    punc_free = \"\".join([ch for ch in text if ch not in punc])\n",
    "    \n",
    "    doc = nlp(punc_free)\n",
    "    \n",
    "    spacy_words = [token.text for token in doc]\n",
    "    \n",
    "    spacy_words = [word for word in spacy_words if not word.startswith('http')]\n",
    "    \n",
    "    no_punc = [word for word in spacy_words if word not in stop_words]\n",
    "    \n",
    "    return no_punc"
   ]
  },
  {
   "cell_type": "code",
   "execution_count": 63,
   "metadata": {},
   "outputs": [
    {
     "data": {
      "text/html": [
       "<div>\n",
       "<style scoped>\n",
       "    .dataframe tbody tr th:only-of-type {\n",
       "        vertical-align: middle;\n",
       "    }\n",
       "\n",
       "    .dataframe tbody tr th {\n",
       "        vertical-align: top;\n",
       "    }\n",
       "\n",
       "    .dataframe thead th {\n",
       "        text-align: right;\n",
       "    }\n",
       "</style>\n",
       "<table border=\"1\" class=\"dataframe\">\n",
       "  <thead>\n",
       "    <tr style=\"text-align: right;\">\n",
       "      <th></th>\n",
       "      <th>tweet_id</th>\n",
       "      <th>screen_name</th>\n",
       "      <th>datetime</th>\n",
       "      <th>text</th>\n",
       "      <th>name_wikipedia</th>\n",
       "      <th>position</th>\n",
       "      <th>joined_congress_date</th>\n",
       "      <th>birthday</th>\n",
       "      <th>gender</th>\n",
       "      <th>state</th>\n",
       "      <th>district_number</th>\n",
       "      <th>party</th>\n",
       "      <th>trump_2016_state_share</th>\n",
       "      <th>clinton_2016_state_share</th>\n",
       "      <th>obama_2012_state_share</th>\n",
       "      <th>romney_2012_state_share</th>\n",
       "      <th>tokens</th>\n",
       "    </tr>\n",
       "  </thead>\n",
       "  <tbody>\n",
       "    <tr>\n",
       "      <th>164793</th>\n",
       "      <td>1.189970e+18</td>\n",
       "      <td>RepTipton</td>\n",
       "      <td>2019-10-31T14:16:58-04:00</td>\n",
       "      <td>#TBT: How to Pass a Wilderness Bill in 2014 (n...</td>\n",
       "      <td>Scott Tipton</td>\n",
       "      <td>Rep</td>\n",
       "      <td>3-Jan-11</td>\n",
       "      <td>11/9/1956</td>\n",
       "      <td>M</td>\n",
       "      <td>CO</td>\n",
       "      <td>3</td>\n",
       "      <td>Republican</td>\n",
       "      <td>1,202,484</td>\n",
       "      <td>1,338,870</td>\n",
       "      <td>1,323,102</td>\n",
       "      <td>1,185,243</td>\n",
       "      <td>[TBT, How, Pass, Wilderness, Bill, 2014, chang...</td>\n",
       "    </tr>\n",
       "    <tr>\n",
       "      <th>763269</th>\n",
       "      <td>1.098400e+18</td>\n",
       "      <td>JoaquinCastrotx</td>\n",
       "      <td>2019-02-20T20:54:08-05:00</td>\n",
       "      <td>RT @AlexWardVox This is the most overlooked pa...</td>\n",
       "      <td>Joaquín Castro</td>\n",
       "      <td>Rep</td>\n",
       "      <td>3-Jan-13</td>\n",
       "      <td>9/16/1974</td>\n",
       "      <td>M</td>\n",
       "      <td>TX</td>\n",
       "      <td>20</td>\n",
       "      <td>Democrat</td>\n",
       "      <td>4,685,047</td>\n",
       "      <td>3,877,868</td>\n",
       "      <td>3,308,124</td>\n",
       "      <td>4,569,843</td>\n",
       "      <td>[RT, AlexWardVox, This, overlooked, Andrew, Mc...</td>\n",
       "    </tr>\n",
       "    <tr>\n",
       "      <th>8321</th>\n",
       "      <td>1.267090e+18</td>\n",
       "      <td>RepTerriSewell</td>\n",
       "      <td>2020-05-31T09:38:12-04:00</td>\n",
       "      <td>The outrage we’re feeling is the culmination o...</td>\n",
       "      <td>Terri Sewell</td>\n",
       "      <td>Rep</td>\n",
       "      <td>3-Jan-11</td>\n",
       "      <td>1/1/1965</td>\n",
       "      <td>F</td>\n",
       "      <td>AL</td>\n",
       "      <td>7</td>\n",
       "      <td>Democrat</td>\n",
       "      <td>1,318,255</td>\n",
       "      <td>729,547</td>\n",
       "      <td>795,696</td>\n",
       "      <td>1,255,925</td>\n",
       "      <td>[The, outrage, feeling, culmination, centuries...</td>\n",
       "    </tr>\n",
       "    <tr>\n",
       "      <th>87887</th>\n",
       "      <td>1.172570e+18</td>\n",
       "      <td>RepSpeier</td>\n",
       "      <td>2019-09-13T14:16:47-04:00</td>\n",
       "      <td>RT @RepColinAllred Over the past 25 years, the...</td>\n",
       "      <td>Jackie Speier</td>\n",
       "      <td>Rep</td>\n",
       "      <td>3-Jan-13</td>\n",
       "      <td>5/14/1950</td>\n",
       "      <td>F</td>\n",
       "      <td>CA</td>\n",
       "      <td>14</td>\n",
       "      <td>Democrat</td>\n",
       "      <td>4,483,814</td>\n",
       "      <td>8,753,792</td>\n",
       "      <td>7,854,285</td>\n",
       "      <td>4,839,958</td>\n",
       "      <td>[RT, RepColinAllred, Over, past, 25, years, Vi...</td>\n",
       "    </tr>\n",
       "    <tr>\n",
       "      <th>214857</th>\n",
       "      <td>1.164320e+18</td>\n",
       "      <td>USRepKCastor</td>\n",
       "      <td>2019-08-21T19:26:14-04:00</td>\n",
       "      <td>I enjoyed seeing N. Tampa/Carrollwood neighbor...</td>\n",
       "      <td>Kathy Castor</td>\n",
       "      <td>Rep</td>\n",
       "      <td>3-Jan-07</td>\n",
       "      <td>8/20/1966</td>\n",
       "      <td>F</td>\n",
       "      <td>FL</td>\n",
       "      <td>14</td>\n",
       "      <td>Democrat</td>\n",
       "      <td>4,617,886</td>\n",
       "      <td>4,504,975</td>\n",
       "      <td>4,237,756</td>\n",
       "      <td>4,163,447</td>\n",
       "      <td>[I, enjoyed, seeing, N, TampaCarrollwood, neig...</td>\n",
       "    </tr>\n",
       "  </tbody>\n",
       "</table>\n",
       "</div>"
      ],
      "text/plain": [
       "            tweet_id      screen_name                   datetime  \\\n",
       "164793  1.189970e+18        RepTipton  2019-10-31T14:16:58-04:00   \n",
       "763269  1.098400e+18  JoaquinCastrotx  2019-02-20T20:54:08-05:00   \n",
       "8321    1.267090e+18   RepTerriSewell  2020-05-31T09:38:12-04:00   \n",
       "87887   1.172570e+18        RepSpeier  2019-09-13T14:16:47-04:00   \n",
       "214857  1.164320e+18     USRepKCastor  2019-08-21T19:26:14-04:00   \n",
       "\n",
       "                                                     text  name_wikipedia  \\\n",
       "164793  #TBT: How to Pass a Wilderness Bill in 2014 (n...    Scott Tipton   \n",
       "763269  RT @AlexWardVox This is the most overlooked pa...  Joaquín Castro   \n",
       "8321    The outrage we’re feeling is the culmination o...    Terri Sewell   \n",
       "87887   RT @RepColinAllred Over the past 25 years, the...   Jackie Speier   \n",
       "214857  I enjoyed seeing N. Tampa/Carrollwood neighbor...    Kathy Castor   \n",
       "\n",
       "       position joined_congress_date   birthday gender state district_number  \\\n",
       "164793      Rep             3-Jan-11  11/9/1956      M    CO               3   \n",
       "763269      Rep             3-Jan-13  9/16/1974      M    TX              20   \n",
       "8321        Rep             3-Jan-11   1/1/1965      F    AL               7   \n",
       "87887       Rep             3-Jan-13  5/14/1950      F    CA              14   \n",
       "214857      Rep             3-Jan-07  8/20/1966      F    FL              14   \n",
       "\n",
       "             party trump_2016_state_share clinton_2016_state_share  \\\n",
       "164793  Republican              1,202,484                1,338,870   \n",
       "763269    Democrat              4,685,047                3,877,868   \n",
       "8321      Democrat              1,318,255                  729,547   \n",
       "87887     Democrat              4,483,814                8,753,792   \n",
       "214857    Democrat              4,617,886                4,504,975   \n",
       "\n",
       "       obama_2012_state_share romney_2012_state_share  \\\n",
       "164793              1,323,102               1,185,243   \n",
       "763269              3,308,124               4,569,843   \n",
       "8321                  795,696               1,255,925   \n",
       "87887               7,854,285               4,839,958   \n",
       "214857              4,237,756               4,163,447   \n",
       "\n",
       "                                                   tokens  \n",
       "164793  [TBT, How, Pass, Wilderness, Bill, 2014, chang...  \n",
       "763269  [RT, AlexWardVox, This, overlooked, Andrew, Mc...  \n",
       "8321    [The, outrage, feeling, culmination, centuries...  \n",
       "87887   [RT, RepColinAllred, Over, past, 25, years, Vi...  \n",
       "214857  [I, enjoyed, seeing, N, TampaCarrollwood, neig...  "
      ]
     },
     "execution_count": 63,
     "metadata": {},
     "output_type": "execute_result"
    }
   ],
   "source": [
    "ct['tokens']= ct['text'].map(lambda x: rem_punc_stop(x))\n",
    "ct.head()"
   ]
  },
  {
   "cell_type": "markdown",
   "metadata": {},
   "source": [
    "## Exploratory Data Analysis"
   ]
  },
  {
   "cell_type": "markdown",
   "metadata": {},
   "source": [
    "Use two of the techniques we covered in lab (or other techniques outside of lab!) to explore the text of the tweets. You should construct these visualizations with an eye toward the eventual classification tasks: (1) predicting the legislator's political party based on the text of their tweet, and (2) predicting whether the legislator is a Senator or Representative. As a reminder, in lab we covered word frequencies, word clouds, word/character counts, scattertext, and topic modeling as possible exploration tools. "
   ]
  },
  {
   "cell_type": "markdown",
   "metadata": {},
   "source": [
    "### EDA 1"
   ]
  },
  {
   "cell_type": "code",
   "execution_count": 64,
   "metadata": {},
   "outputs": [
    {
     "data": {
      "image/png": "[encoded data removed]",
      "text/plain": [
       "<Figure size 432x288 with 1 Axes>"
      ]
     },
     "metadata": {
      "needs_background": "light"
     },
     "output_type": "display_data"
    }
   ],
   "source": [
    "#Creating wordcloud\n",
    "text = ' '.join(ct['tokens'].map(lambda text: ' '.join(text)))\n",
    "wordcloud = WordCloud().generate(text)\n",
    "plt.imshow(wordcloud, interpolation = 'bilinear')\n",
    "plt.axis('off')\n",
    "plt.show()"
   ]
  },
  {
   "cell_type": "markdown",
   "metadata": {},
   "source": [
    "### EDA 2"
   ]
  },
  {
   "cell_type": "code",
   "execution_count": 65,
   "metadata": {},
   "outputs": [],
   "source": [
    "#creating columns of text length and word count\n",
    "ct['text_len'] = ct['text'].apply(len)\n",
    "ct['text_wcount'] = ct['text'].apply(lambda x: len(str(x).split()))"
   ]
  },
  {
   "cell_type": "code",
   "execution_count": 66,
   "metadata": {},
   "outputs": [
    {
     "data": {
      "image/png": "[encoded data removed]",
      "text/plain": [
       "<Figure size 360x360 with 1 Axes>"
      ]
     },
     "metadata": {
      "needs_background": "light"
     },
     "output_type": "display_data"
    }
   ],
   "source": [
    "#plotting text length per tweet\n",
    "sns.displot(ct, x=\"text_len\")\n",
    "plt.show()"
   ]
  },
  {
   "cell_type": "code",
   "execution_count": 68,
   "metadata": {},
   "outputs": [
    {
     "data": {
      "image/png": "[encoded data removed]",
      "text/plain": [
       "<Figure size 360x360 with 1 Axes>"
      ]
     },
     "metadata": {
      "needs_background": "light"
     },
     "output_type": "display_data"
    }
   ],
   "source": [
    "#plotting word count\n",
    "sns.displot(ct, x=\"text_wcount\")\n",
    "plt.show()"
   ]
  },
  {
   "cell_type": "code",
   "execution_count": 87,
   "metadata": {},
   "outputs": [
    {
     "name": "stdout",
     "output_type": "stream",
     "text": [
      "39.11595547309833\n"
     ]
    },
    {
     "data": {
      "text/plain": [
       "35.71735395189003"
      ]
     },
     "execution_count": 87,
     "metadata": {},
     "output_type": "execute_result"
    }
   ],
   "source": [
    "''' checking the means before plotting\n",
    "\n",
    "cool = ct[ct['party']=='Democrat']['text_wcount'].mean()\n",
    "#word count = 39.11595547309833\n",
    "#text length = 326.9157390228819\n",
    "\n",
    "cool2 = ct[ct['party']=='Republican']['text_wcount'].mean()\n",
    "#word count = 35.71735395189003\n",
    "#text length = 305.59192439862545"
   ]
  },
  {
   "cell_type": "code",
   "execution_count": 74,
   "metadata": {},
   "outputs": [
    {
     "data": {
      "image/png": "[encoded data removed]",
      "text/plain": [
       "<Figure size 1179.25x360 with 3 Axes>"
      ]
     },
     "metadata": {
      "needs_background": "light"
     },
     "output_type": "display_data"
    }
   ],
   "source": [
    "#plot comparison of word counts among Parties (Republican, Democrat, Independent)\n",
    "sns.displot(ct, x=\"text_wcount\", hue = \"party\", col = \"party\")\n",
    "plt.show()\n",
    "\n",
    "#Dems higher because more Dems in the data"
   ]
  },
  {
   "cell_type": "code",
   "execution_count": 73,
   "metadata": {},
   "outputs": [
    {
     "data": {
      "image/png": "[encoded data removed]",
      "text/plain": [
       "<Figure size 774.75x360 with 2 Axes>"
      ]
     },
     "metadata": {
      "needs_background": "light"
     },
     "output_type": "display_data"
    }
   ],
   "source": [
    "#plot comparison of word counts between Representatives and Senators\n",
    "sns.displot(ct, x=\"text_wcount\", hue = \"position\", col = \"position\")\n",
    "plt.show()\n",
    "\n",
    "#Reps higher because more Representatives in the data"
   ]
  },
  {
   "cell_type": "markdown",
   "metadata": {},
   "source": [
    "## Sentiment Analysis"
   ]
  },
  {
   "cell_type": "markdown",
   "metadata": {},
   "source": [
    "Next, let's analyze the sentiments contained within the tweets. You may use TextBlob or another library for these tasks. Do the following:\n",
    "\n",
    "* Choose two legislators, one who you think will be more liberal and one who you think will be more conservative, and analyze their sentiment and/or subjectivity scores per tweet. For instance, you might do two scatterplots that plot each legislator's sentiment against their subjectivity, or two density plots for their sentiments. Do the scores match what you thought?\n",
    "* Plot two more visualizations like the ones you chose in the first part, but do them to compare (1) Democrats v. Republicans and (2) Senators v. Representatives \n",
    "\n",
    "`TextBlob` has already been imported in the top cell."
   ]
  },
  {
   "cell_type": "code",
   "execution_count": 98,
   "metadata": {},
   "outputs": [
    {
     "data": {
      "text/plain": [
       "0"
      ]
     },
     "execution_count": 98,
     "metadata": {},
     "output_type": "execute_result"
    }
   ],
   "source": [
    "#Senator Blackburn (R) vs. Senator Harris (L)\n",
    "#two scatterplots that plot each legislator's sentiment against their subjectivity, or two density plots for their sentiments\n",
    "\n",
    "blackburn_text = congress_tweets[congress_tweets['name_wikipedia']=='Marsha Blackburn']['text']\n",
    "blackburn_text\n",
    "\n",
    "kamala_text = congress_tweets[congress_tweets['name_wikipedia']=='Kamala Harris']['text']\n",
    "kamala_text"
   ]
  },
  {
   "cell_type": "code",
   "execution_count": 89,
   "metadata": {},
   "outputs": [
    {
     "data": {
      "image/png": "[encoded data removed]",
      "text/plain": [
       "<Figure size 360x360 with 1 Axes>"
      ]
     },
     "metadata": {
      "needs_background": "light"
     },
     "output_type": "display_data"
    }
   ],
   "source": [
    "congress_tweets['kamala_polarity']= kamala_text.map(lambda text: TextBlob(text).sentiment.polarity)\n",
    "congress_tweets['blackburn_polarity']= blackburn_text.map(lambda text: TextBlob(text).sentiment.polarity)\n",
    "\n",
    "sns.displot(congress_tweets, x=\"kamala_polarity\")\n",
    "plt.show()"
   ]
  },
  {
   "cell_type": "code",
   "execution_count": 90,
   "metadata": {},
   "outputs": [
    {
     "data": {
      "image/png": "[encoded data removed]",
      "text/plain": [
       "<Figure size 360x360 with 1 Axes>"
      ]
     },
     "metadata": {
      "needs_background": "light"
     },
     "output_type": "display_data"
    }
   ],
   "source": [
    "sns.displot(congress_tweets, x=\"blackburn_polarity\")\n",
    "plt.show()"
   ]
  },
  {
   "cell_type": "code",
   "execution_count": 99,
   "metadata": {},
   "outputs": [
    {
     "data": {
      "image/png": "[encoded data removed]",
      "text/plain": [
       "<Figure size 360x360 with 1 Axes>"
      ]
     },
     "metadata": {
      "needs_background": "light"
     },
     "output_type": "display_data"
    }
   ],
   "source": [
    "congress_tweets['kamala_subjectivity'] = kamala_text.map(lambda text: TextBlob(text).sentiment.subjectivity)\n",
    "sns.displot(congress_tweets, x=\"kamala_subjectivity\")\n",
    "plt.show()"
   ]
  },
  {
   "cell_type": "code",
   "execution_count": 100,
   "metadata": {},
   "outputs": [
    {
     "data": {
      "image/png": "[encoded data removed]",
      "text/plain": [
       "<Figure size 360x360 with 1 Axes>"
      ]
     },
     "metadata": {
      "needs_background": "light"
     },
     "output_type": "display_data"
    }
   ],
   "source": [
    "congress_tweets['blackburn_subjectivity'] = blackburn_text.map(lambda text: TextBlob(text).sentiment.subjectivity)\n",
    "sns.displot(congress_tweets, x=\"blackburn_subjectivity\")\n",
    "plt.show()"
   ]
  },
  {
   "cell_type": "code",
   "execution_count": 102,
   "metadata": {},
   "outputs": [],
   "source": [
    "\n",
    "#(1) Sentiment Polarity between Democrats v. Republicans \n",
    "#using ct, a random 10000 slice of congress_tweets \n",
    "\n",
    "\n",
    "dem_text = ct[ct['party']=='Democrat']['text']\n",
    "dem_text\n",
    "\n",
    "rep_text = ct[ct['party']=='Republican']['text']\n",
    "rep_text\n",
    "\n",
    "ct['dem_polarity']= dem_text.map(lambda text: TextBlob(text).sentiment.polarity)\n",
    "ct['rep_polarity']= rep_text.map(lambda text: TextBlob(text).sentiment.polarity)\n"
   ]
  },
  {
   "cell_type": "code",
   "execution_count": 104,
   "metadata": {},
   "outputs": [
    {
     "data": {
      "image/png": "[encoded data removed]",
      "text/plain": [
       "<Figure size 360x360 with 1 Axes>"
      ]
     },
     "metadata": {
      "needs_background": "light"
     },
     "output_type": "display_data"
    }
   ],
   "source": [
    "#Plotting Sentiment Polarity for Democrats\n",
    "sns.displot(ct, x=\"dem_polarity\")\n",
    "plt.show()"
   ]
  },
  {
   "cell_type": "code",
   "execution_count": 105,
   "metadata": {},
   "outputs": [
    {
     "data": {
      "image/png": "[encoded data removed]",
      "text/plain": [
       "<Figure size 360x360 with 1 Axes>"
      ]
     },
     "metadata": {
      "needs_background": "light"
     },
     "output_type": "display_data"
    }
   ],
   "source": [
    "#Plotting Sentiment Polarity for Republicans\n",
    "sns.displot(ct, x=\"rep_polarity\")\n",
    "plt.show()"
   ]
  },
  {
   "cell_type": "code",
   "execution_count": 106,
   "metadata": {},
   "outputs": [],
   "source": [
    "#(2) Senators v. Representatives\n",
    "\n",
    "house_text = ct[ct['position']=='Rep']['text']\n",
    "house_text\n",
    "\n",
    "sen_text = ct[ct['position']=='Sen']['text']\n",
    "sen_text\n",
    "\n",
    "ct['house_polarity']= house_text.map(lambda text: TextBlob(text).sentiment.polarity)\n",
    "ct['sen_polarity']= sen_text.map(lambda text: TextBlob(text).sentiment.polarity)\n",
    "\n"
   ]
  },
  {
   "cell_type": "code",
   "execution_count": 107,
   "metadata": {},
   "outputs": [
    {
     "data": {
      "image/png": "[encoded data removed]",
      "text/plain": [
       "<Figure size 360x360 with 1 Axes>"
      ]
     },
     "metadata": {
      "needs_background": "light"
     },
     "output_type": "display_data"
    }
   ],
   "source": [
    "#Plotting Sentiment Polarity for Representatives\n",
    "sns.displot(ct, x=\"house_polarity\")\n",
    "plt.show()"
   ]
  },
  {
   "cell_type": "code",
   "execution_count": 108,
   "metadata": {},
   "outputs": [
    {
     "data": {
      "image/png": "[encoded data removed]",
      "text/plain": [
       "<Figure size 360x360 with 1 Axes>"
      ]
     },
     "metadata": {
      "needs_background": "light"
     },
     "output_type": "display_data"
    }
   ],
   "source": [
    "#Plotting Sentiment Polarity for Senators\n",
    "sns.displot(ct, x=\"sen_polarity\")\n",
    "plt.show()"
   ]
  },
  {
   "cell_type": "markdown",
   "metadata": {},
   "source": [
    "## Featurization"
   ]
  },
  {
   "cell_type": "code",
   "execution_count": null,
   "metadata": {},
   "outputs": [],
   "source": []
  },
  {
   "cell_type": "markdown",
   "metadata": {},
   "source": [
    "Before going to classification, explore different featurization techniques. Create three dataframes or arrays to represent your text features, specifically:\n",
    "\n",
    "* Features engineered from your previous analysis. For example, word counts, sentiment scores, topic model etc.\n",
    "* A term frequency-inverse document frequency matrix. \n",
    "* An embedding-based featurization (like a document averaged word2vec)\n",
    "\n",
    "In the next section, you will experiment with each of these featurization techniques to see which one produces the best classifications."
   ]
  },
  {
   "cell_type": "code",
   "execution_count": null,
   "metadata": {},
   "outputs": [],
   "source": []
  },
  {
   "cell_type": "markdown",
   "metadata": {},
   "source": [
    "### Engineered Text Features"
   ]
  },
  {
   "cell_type": "code",
   "execution_count": null,
   "metadata": {},
   "outputs": [],
   "source": [
    "# Engineered Features\n",
    "..."
   ]
  },
  {
   "cell_type": "markdown",
   "metadata": {},
   "source": [
    "### Bag-of-words or Tf-idf"
   ]
  },
  {
   "cell_type": "code",
   "execution_count": null,
   "metadata": {},
   "outputs": [],
   "source": [
    "# Frequency Based featurization\n",
    "..."
   ]
  },
  {
   "cell_type": "markdown",
   "metadata": {},
   "source": [
    "### Word Embedding"
   ]
  },
  {
   "cell_type": "code",
   "execution_count": null,
   "metadata": {},
   "outputs": [],
   "source": [
    "# Load Word2Vec model from Google; OPTIONAL depending on your computational resources (the file is ~1 GB)\n",
    "# Also note that this file path assumes that the word vectors are underneath 'data'; you may wish to point to the CSS course repo and change the path\n",
    "# or move the vector file to the project repo \n",
    "\n",
    "#model = gensim.models.KeyedVectors.load_word2vec_format('data/GoogleNews-vectors-negative300.bin.gz', binary = True) "
   ]
  },
  {
   "cell_type": "code",
   "execution_count": null,
   "metadata": {},
   "outputs": [],
   "source": [
    "# Function to average word embeddings for a document; use examples from lab to apply this function. You can use also other techniques such as PCA and doc2vec instead.\n",
    "def document_vector(word2vec_model, doc):\n",
    "    doc = [word for word in doc if word in model.vocab]\n",
    "    return np.mean(model[doc], axis=0)"
   ]
  },
  {
   "cell_type": "code",
   "execution_count": null,
   "metadata": {},
   "outputs": [],
   "source": [
    "# embedding based featurization\n",
    "..."
   ]
  },
  {
   "cell_type": "markdown",
   "metadata": {},
   "source": [
    "## Classification"
   ]
  },
  {
   "cell_type": "markdown",
   "metadata": {},
   "source": [
    "Either use cross-validation or partition your data with training/validation/test sets for this section. Do the following:\n",
    "\n",
    "* Choose a supervised learning algorithm such as logistic regression, random forest etc. \n",
    "* Train six models. For each of the three dataframes you created in the featurization part, train one model to predict whether the author of the tweet is a Democrat or Republican, and a second model to predict whether the author is a Senator or Representative.\n",
    "* Report the accuracy and other relevant metrics for each of these six models.\n",
    "* Choose the featurization technique associated with your best model. Combine those text features with non-text features. Train two more models: (1) A supervised learning algorithm that uses just the non-text features and (2) a supervised learning algorithm that combines text and non-text features. Report accuracy and other relevant metrics. \n",
    "\n",
    "If time permits, you are encouraged to use hyperparameter tuning or AutoML techniques like TPOT, but are not explicitly required to do so."
   ]
  },
  {
   "cell_type": "markdown",
   "metadata": {},
   "source": [
    "### Train Six Models with Just Text"
   ]
  },
  {
   "cell_type": "code",
   "execution_count": null,
   "metadata": {},
   "outputs": [],
   "source": [
    "# six models ([engineered features, frequency-based, embedding] * [democrat/republican, senator/representative])\n",
    "..."
   ]
  },
  {
   "cell_type": "markdown",
   "metadata": {},
   "source": [
    "### Two Combined Models"
   ]
  },
  {
   "cell_type": "code",
   "execution_count": null,
   "metadata": {},
   "outputs": [],
   "source": [
    "# two models ([best text features + non-text features] * [democrat/republican, senator/representative])\n",
    "..."
   ]
  },
  {
   "cell_type": "markdown",
   "metadata": {},
   "source": [
    "## Discussion Questions"
   ]
  },
  {
   "cell_type": "markdown",
   "metadata": {},
   "source": [
    "1. Why do standard preprocessing techniques need to be further customized to a particular corpus?"
   ]
  },
  {
   "cell_type": "markdown",
   "metadata": {},
   "source": [
    "**Your Answer Here**"
   ]
  },
  {
   "cell_type": "markdown",
   "metadata": {},
   "source": [
    "2. Did you find evidence for the idea that Democrats and Republicans have different sentiments in their tweets? What about Senators and Representatives?"
   ]
  },
  {
   "cell_type": "markdown",
   "metadata": {},
   "source": [
    "**Your Answer Here**"
   ]
  },
  {
   "cell_type": "markdown",
   "metadata": {},
   "source": [
    "3. Why is validating your exploratory and unsupervised learning approaches with a supervised learning algorithm valuable?"
   ]
  },
  {
   "cell_type": "markdown",
   "metadata": {},
   "source": [
    "**Your Answer Here**"
   ]
  },
  {
   "cell_type": "markdown",
   "metadata": {},
   "source": [
    "4. Did text only, non-text only, or text and non-text features together perform the best? What is the intuition behind combining text and non-text features in a supervised learning algorithm?"
   ]
  },
  {
   "cell_type": "markdown",
   "metadata": {},
   "source": [
    "**Your Answer Here**"
   ]
  }
 ],
 "metadata": {
  "kernelspec": {
   "display_name": "Python 3",
   "language": "python",
   "name": "python3"
  },
  "language_info": {
   "codemirror_mode": {
    "name": "ipython",
    "version": 3
   },
   "file_extension": ".py",
   "mimetype": "text/x-python",
   "name": "python",
   "nbconvert_exporter": "python",
   "pygments_lexer": "ipython3",
   "version": "3.8.5"
  }
 },
 "nbformat": 4,
 "nbformat_minor": 4
}
